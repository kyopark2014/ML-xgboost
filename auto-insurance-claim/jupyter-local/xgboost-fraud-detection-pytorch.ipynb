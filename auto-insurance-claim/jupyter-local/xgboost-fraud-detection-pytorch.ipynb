{
 "cells": [
  {
   "cell_type": "code",
   "execution_count": 5,
   "id": "ca63ed8f",
   "metadata": {},
   "outputs": [
    {
     "name": "stdout",
     "output_type": "stream",
     "text": [
      "Looking in indexes: https://pypi.org/simple, https://pip.repos.neuron.amazonaws.com\n",
      "Requirement already satisfied: xgboost in /home/ec2-user/anaconda3/envs/pytorch_p38/lib/python3.8/site-packages (1.6.2)\n",
      "Requirement already satisfied: scipy in /home/ec2-user/anaconda3/envs/pytorch_p38/lib/python3.8/site-packages (from xgboost) (1.7.2)\n",
      "Requirement already satisfied: numpy in /home/ec2-user/anaconda3/envs/pytorch_p38/lib/python3.8/site-packages (from xgboost) (1.21.2)\n",
      "\u001b[33mWARNING: You are using pip version 22.0.4; however, version 22.2.2 is available.\n",
      "You should consider upgrading via the '/home/ec2-user/anaconda3/envs/pytorch_p38/bin/python -m pip install --upgrade pip' command.\u001b[0m\u001b[33m\n",
      "\u001b[0m"
     ]
    }
   ],
   "source": [
    "!pip install xgboost"
   ]
  },
  {
   "cell_type": "code",
   "execution_count": 6,
   "id": "a1b42cba",
   "metadata": {},
   "outputs": [],
   "source": [
    "import pandas as pd"
   ]
  },
  {
   "cell_type": "code",
   "execution_count": 7,
   "id": "ec6fb087",
   "metadata": {},
   "outputs": [],
   "source": [
    "pd.options.display.max_rows=20\n",
    "pd.options.display.max_columns=10"
   ]
  },
  {
   "cell_type": "markdown",
   "id": "6dbc3236",
   "metadata": {},
   "source": [
    "### Load dataset"
   ]
  },
  {
   "cell_type": "code",
   "execution_count": 8,
   "id": "741e8b07",
   "metadata": {},
   "outputs": [],
   "source": [
    "import xgboost as xgb\n",
    "\n",
    "data = pd.read_csv('../dataset/train.csv')\n",
    "train = data.drop('fraud', axis=1)\n",
    "label = pd.DataFrame(data['fraud'])\n",
    "dtrain = xgb.DMatrix(train, label=label)"
   ]
  },
  {
   "cell_type": "code",
   "execution_count": 9,
   "id": "adde3737",
   "metadata": {},
   "outputs": [
    {
     "data": {
      "text/html": [
       "<div>\n",
       "<style scoped>\n",
       "    .dataframe tbody tr th:only-of-type {\n",
       "        vertical-align: middle;\n",
       "    }\n",
       "\n",
       "    .dataframe tbody tr th {\n",
       "        vertical-align: top;\n",
       "    }\n",
       "\n",
       "    .dataframe thead th {\n",
       "        text-align: right;\n",
       "    }\n",
       "</style>\n",
       "<table border=\"1\" class=\"dataframe\">\n",
       "  <thead>\n",
       "    <tr style=\"text-align: right;\">\n",
       "      <th></th>\n",
       "      <th>fraud</th>\n",
       "      <th>vehicle_claim</th>\n",
       "      <th>total_claim_amount</th>\n",
       "      <th>customer_age</th>\n",
       "      <th>months_as_customer</th>\n",
       "      <th>...</th>\n",
       "      <th>authorities_contacted_Fire</th>\n",
       "      <th>authorities_contacted_None</th>\n",
       "      <th>authorities_contacted_Police</th>\n",
       "      <th>police_report_available_No</th>\n",
       "      <th>police_report_available_Yes</th>\n",
       "    </tr>\n",
       "  </thead>\n",
       "  <tbody>\n",
       "    <tr>\n",
       "      <th>0</th>\n",
       "      <td>0</td>\n",
       "      <td>8913.668763</td>\n",
       "      <td>80513.668763</td>\n",
       "      <td>54</td>\n",
       "      <td>94</td>\n",
       "      <td>...</td>\n",
       "      <td>0</td>\n",
       "      <td>1</td>\n",
       "      <td>0</td>\n",
       "      <td>1</td>\n",
       "      <td>0</td>\n",
       "    </tr>\n",
       "    <tr>\n",
       "      <th>1</th>\n",
       "      <td>0</td>\n",
       "      <td>19746.724395</td>\n",
       "      <td>26146.724395</td>\n",
       "      <td>41</td>\n",
       "      <td>165</td>\n",
       "      <td>...</td>\n",
       "      <td>0</td>\n",
       "      <td>0</td>\n",
       "      <td>1</td>\n",
       "      <td>0</td>\n",
       "      <td>1</td>\n",
       "    </tr>\n",
       "    <tr>\n",
       "      <th>2</th>\n",
       "      <td>0</td>\n",
       "      <td>11652.969918</td>\n",
       "      <td>22052.969918</td>\n",
       "      <td>57</td>\n",
       "      <td>155</td>\n",
       "      <td>...</td>\n",
       "      <td>0</td>\n",
       "      <td>0</td>\n",
       "      <td>1</td>\n",
       "      <td>0</td>\n",
       "      <td>1</td>\n",
       "    </tr>\n",
       "    <tr>\n",
       "      <th>3</th>\n",
       "      <td>0</td>\n",
       "      <td>11260.930936</td>\n",
       "      <td>115960.930936</td>\n",
       "      <td>39</td>\n",
       "      <td>80</td>\n",
       "      <td>...</td>\n",
       "      <td>0</td>\n",
       "      <td>1</td>\n",
       "      <td>0</td>\n",
       "      <td>1</td>\n",
       "      <td>0</td>\n",
       "    </tr>\n",
       "    <tr>\n",
       "      <th>4</th>\n",
       "      <td>0</td>\n",
       "      <td>27987.704652</td>\n",
       "      <td>31387.704652</td>\n",
       "      <td>39</td>\n",
       "      <td>60</td>\n",
       "      <td>...</td>\n",
       "      <td>0</td>\n",
       "      <td>0</td>\n",
       "      <td>1</td>\n",
       "      <td>1</td>\n",
       "      <td>0</td>\n",
       "    </tr>\n",
       "  </tbody>\n",
       "</table>\n",
       "<p>5 rows × 59 columns</p>\n",
       "</div>"
      ],
      "text/plain": [
       "   fraud  vehicle_claim  total_claim_amount  customer_age  months_as_customer  \\\n",
       "0      0    8913.668763        80513.668763            54                  94   \n",
       "1      0   19746.724395        26146.724395            41                 165   \n",
       "2      0   11652.969918        22052.969918            57                 155   \n",
       "3      0   11260.930936       115960.930936            39                  80   \n",
       "4      0   27987.704652        31387.704652            39                  60   \n",
       "\n",
       "   ...  authorities_contacted_Fire  authorities_contacted_None  \\\n",
       "0  ...                           0                           1   \n",
       "1  ...                           0                           0   \n",
       "2  ...                           0                           0   \n",
       "3  ...                           0                           1   \n",
       "4  ...                           0                           0   \n",
       "\n",
       "   authorities_contacted_Police  police_report_available_No  \\\n",
       "0                             0                           1   \n",
       "1                             1                           0   \n",
       "2                             1                           0   \n",
       "3                             0                           1   \n",
       "4                             1                           1   \n",
       "\n",
       "   police_report_available_Yes  \n",
       "0                            0  \n",
       "1                            1  \n",
       "2                            1  \n",
       "3                            0  \n",
       "4                            0  \n",
       "\n",
       "[5 rows x 59 columns]"
      ]
     },
     "execution_count": 9,
     "metadata": {},
     "output_type": "execute_result"
    }
   ],
   "source": [
    "data.head()"
   ]
  },
  {
   "cell_type": "code",
   "execution_count": 10,
   "id": "6a0b57ba",
   "metadata": {},
   "outputs": [
    {
     "data": {
      "text/plain": [
       "fraud\n",
       "0    3869\n",
       "1     131\n",
       "dtype: int64"
      ]
     },
     "execution_count": 10,
     "metadata": {},
     "output_type": "execute_result"
    }
   ],
   "source": [
    "data.groupby('fraud').size()"
   ]
  },
  {
   "cell_type": "code",
   "execution_count": 11,
   "id": "c33cadc3",
   "metadata": {},
   "outputs": [
    {
     "data": {
      "text/html": [
       "<div>\n",
       "<style scoped>\n",
       "    .dataframe tbody tr th:only-of-type {\n",
       "        vertical-align: middle;\n",
       "    }\n",
       "\n",
       "    .dataframe tbody tr th {\n",
       "        vertical-align: top;\n",
       "    }\n",
       "\n",
       "    .dataframe thead th {\n",
       "        text-align: right;\n",
       "    }\n",
       "</style>\n",
       "<table border=\"1\" class=\"dataframe\">\n",
       "  <thead>\n",
       "    <tr style=\"text-align: right;\">\n",
       "      <th></th>\n",
       "      <th>vehicle_claim</th>\n",
       "      <th>total_claim_amount</th>\n",
       "      <th>customer_age</th>\n",
       "      <th>months_as_customer</th>\n",
       "      <th>num_claims_past_year</th>\n",
       "      <th>...</th>\n",
       "      <th>authorities_contacted_Fire</th>\n",
       "      <th>authorities_contacted_None</th>\n",
       "      <th>authorities_contacted_Police</th>\n",
       "      <th>police_report_available_No</th>\n",
       "      <th>police_report_available_Yes</th>\n",
       "    </tr>\n",
       "  </thead>\n",
       "  <tbody>\n",
       "    <tr>\n",
       "      <th>0</th>\n",
       "      <td>8913.668763</td>\n",
       "      <td>80513.668763</td>\n",
       "      <td>54</td>\n",
       "      <td>94</td>\n",
       "      <td>0</td>\n",
       "      <td>...</td>\n",
       "      <td>0</td>\n",
       "      <td>1</td>\n",
       "      <td>0</td>\n",
       "      <td>1</td>\n",
       "      <td>0</td>\n",
       "    </tr>\n",
       "    <tr>\n",
       "      <th>1</th>\n",
       "      <td>19746.724395</td>\n",
       "      <td>26146.724395</td>\n",
       "      <td>41</td>\n",
       "      <td>165</td>\n",
       "      <td>0</td>\n",
       "      <td>...</td>\n",
       "      <td>0</td>\n",
       "      <td>0</td>\n",
       "      <td>1</td>\n",
       "      <td>0</td>\n",
       "      <td>1</td>\n",
       "    </tr>\n",
       "    <tr>\n",
       "      <th>2</th>\n",
       "      <td>11652.969918</td>\n",
       "      <td>22052.969918</td>\n",
       "      <td>57</td>\n",
       "      <td>155</td>\n",
       "      <td>0</td>\n",
       "      <td>...</td>\n",
       "      <td>0</td>\n",
       "      <td>0</td>\n",
       "      <td>1</td>\n",
       "      <td>0</td>\n",
       "      <td>1</td>\n",
       "    </tr>\n",
       "    <tr>\n",
       "      <th>3</th>\n",
       "      <td>11260.930936</td>\n",
       "      <td>115960.930936</td>\n",
       "      <td>39</td>\n",
       "      <td>80</td>\n",
       "      <td>0</td>\n",
       "      <td>...</td>\n",
       "      <td>0</td>\n",
       "      <td>1</td>\n",
       "      <td>0</td>\n",
       "      <td>1</td>\n",
       "      <td>0</td>\n",
       "    </tr>\n",
       "    <tr>\n",
       "      <th>4</th>\n",
       "      <td>27987.704652</td>\n",
       "      <td>31387.704652</td>\n",
       "      <td>39</td>\n",
       "      <td>60</td>\n",
       "      <td>0</td>\n",
       "      <td>...</td>\n",
       "      <td>0</td>\n",
       "      <td>0</td>\n",
       "      <td>1</td>\n",
       "      <td>1</td>\n",
       "      <td>0</td>\n",
       "    </tr>\n",
       "  </tbody>\n",
       "</table>\n",
       "<p>5 rows × 58 columns</p>\n",
       "</div>"
      ],
      "text/plain": [
       "   vehicle_claim  total_claim_amount  customer_age  months_as_customer  \\\n",
       "0    8913.668763        80513.668763            54                  94   \n",
       "1   19746.724395        26146.724395            41                 165   \n",
       "2   11652.969918        22052.969918            57                 155   \n",
       "3   11260.930936       115960.930936            39                  80   \n",
       "4   27987.704652        31387.704652            39                  60   \n",
       "\n",
       "   num_claims_past_year  ...  authorities_contacted_Fire  \\\n",
       "0                     0  ...                           0   \n",
       "1                     0  ...                           0   \n",
       "2                     0  ...                           0   \n",
       "3                     0  ...                           0   \n",
       "4                     0  ...                           0   \n",
       "\n",
       "   authorities_contacted_None  authorities_contacted_Police  \\\n",
       "0                           1                             0   \n",
       "1                           0                             1   \n",
       "2                           0                             1   \n",
       "3                           1                             0   \n",
       "4                           0                             1   \n",
       "\n",
       "   police_report_available_No  police_report_available_Yes  \n",
       "0                           1                            0  \n",
       "1                           0                            1  \n",
       "2                           0                            1  \n",
       "3                           1                            0  \n",
       "4                           1                            0  \n",
       "\n",
       "[5 rows x 58 columns]"
      ]
     },
     "execution_count": 11,
     "metadata": {},
     "output_type": "execute_result"
    }
   ],
   "source": [
    "train.head()"
   ]
  },
  {
   "cell_type": "markdown",
   "id": "d6b2e981",
   "metadata": {},
   "source": [
    "### Hyperparameter"
   ]
  },
  {
   "cell_type": "code",
   "execution_count": 12,
   "id": "1443a447",
   "metadata": {},
   "outputs": [],
   "source": [
    "max_depth = 3\n",
    "eta = 0.2\n",
    "objective = 'binary:logistic'\n",
    "scale_pos_weight = 29"
   ]
  },
  {
   "cell_type": "code",
   "execution_count": 13,
   "id": "e031dfa7",
   "metadata": {},
   "outputs": [],
   "source": [
    "params = {'max_depth': max_depth, 'eta': eta, 'objective': objective, 'scale_pos_weight': scale_pos_weight}"
   ]
  },
  {
   "cell_type": "code",
   "execution_count": 14,
   "id": "dee8288d",
   "metadata": {},
   "outputs": [],
   "source": [
    "num_boost_round = 999\n",
    "nfold = 5\n",
    "early_stopping_rounds = 10"
   ]
  },
  {
   "cell_type": "markdown",
   "id": "2a4a6140",
   "metadata": {},
   "source": [
    "### Cross-Validation"
   ]
  },
  {
   "cell_type": "code",
   "execution_count": 15,
   "id": "9b04959b",
   "metadata": {},
   "outputs": [],
   "source": [
    "cv_results = xgb.cv(\n",
    "    params = params,\n",
    "    dtrain = dtrain,\n",
    "    num_boost_round = num_boost_round,\n",
    "    nfold = nfold,\n",
    "    early_stopping_rounds = early_stopping_rounds,\n",
    "    metrics = ('auc'),\n",
    "    stratified = True, # 레이블 (0,1) 의 분포에 따라 훈련 , 검증 세트 분리\n",
    "    seed = 0)"
   ]
  },
  {
   "cell_type": "code",
   "execution_count": 16,
   "id": "3f35f769",
   "metadata": {},
   "outputs": [
    {
     "data": {
      "text/html": [
       "<div>\n",
       "<style scoped>\n",
       "    .dataframe tbody tr th:only-of-type {\n",
       "        vertical-align: middle;\n",
       "    }\n",
       "\n",
       "    .dataframe tbody tr th {\n",
       "        vertical-align: top;\n",
       "    }\n",
       "\n",
       "    .dataframe thead th {\n",
       "        text-align: right;\n",
       "    }\n",
       "</style>\n",
       "<table border=\"1\" class=\"dataframe\">\n",
       "  <thead>\n",
       "    <tr style=\"text-align: right;\">\n",
       "      <th></th>\n",
       "      <th>train-auc-mean</th>\n",
       "      <th>train-auc-std</th>\n",
       "      <th>test-auc-mean</th>\n",
       "      <th>test-auc-std</th>\n",
       "    </tr>\n",
       "  </thead>\n",
       "  <tbody>\n",
       "    <tr>\n",
       "      <th>0</th>\n",
       "      <td>0.819224</td>\n",
       "      <td>0.005817</td>\n",
       "      <td>0.769926</td>\n",
       "      <td>0.047341</td>\n",
       "    </tr>\n",
       "    <tr>\n",
       "      <th>1</th>\n",
       "      <td>0.842821</td>\n",
       "      <td>0.012217</td>\n",
       "      <td>0.806518</td>\n",
       "      <td>0.021315</td>\n",
       "    </tr>\n",
       "    <tr>\n",
       "      <th>2</th>\n",
       "      <td>0.854213</td>\n",
       "      <td>0.005705</td>\n",
       "      <td>0.806512</td>\n",
       "      <td>0.021542</td>\n",
       "    </tr>\n",
       "    <tr>\n",
       "      <th>3</th>\n",
       "      <td>0.861384</td>\n",
       "      <td>0.008274</td>\n",
       "      <td>0.812601</td>\n",
       "      <td>0.030358</td>\n",
       "    </tr>\n",
       "    <tr>\n",
       "      <th>4</th>\n",
       "      <td>0.873625</td>\n",
       "      <td>0.009501</td>\n",
       "      <td>0.814152</td>\n",
       "      <td>0.032305</td>\n",
       "    </tr>\n",
       "    <tr>\n",
       "      <th>5</th>\n",
       "      <td>0.881067</td>\n",
       "      <td>0.009787</td>\n",
       "      <td>0.813072</td>\n",
       "      <td>0.027425</td>\n",
       "    </tr>\n",
       "    <tr>\n",
       "      <th>6</th>\n",
       "      <td>0.886745</td>\n",
       "      <td>0.009047</td>\n",
       "      <td>0.810738</td>\n",
       "      <td>0.025871</td>\n",
       "    </tr>\n",
       "    <tr>\n",
       "      <th>7</th>\n",
       "      <td>0.895144</td>\n",
       "      <td>0.009728</td>\n",
       "      <td>0.816828</td>\n",
       "      <td>0.023247</td>\n",
       "    </tr>\n",
       "    <tr>\n",
       "      <th>8</th>\n",
       "      <td>0.898417</td>\n",
       "      <td>0.008864</td>\n",
       "      <td>0.817527</td>\n",
       "      <td>0.025424</td>\n",
       "    </tr>\n",
       "    <tr>\n",
       "      <th>9</th>\n",
       "      <td>0.903438</td>\n",
       "      <td>0.010094</td>\n",
       "      <td>0.818247</td>\n",
       "      <td>0.024297</td>\n",
       "    </tr>\n",
       "    <tr>\n",
       "      <th>10</th>\n",
       "      <td>0.909567</td>\n",
       "      <td>0.013377</td>\n",
       "      <td>0.818719</td>\n",
       "      <td>0.021123</td>\n",
       "    </tr>\n",
       "    <tr>\n",
       "      <th>11</th>\n",
       "      <td>0.913054</td>\n",
       "      <td>0.013701</td>\n",
       "      <td>0.817377</td>\n",
       "      <td>0.019645</td>\n",
       "    </tr>\n",
       "    <tr>\n",
       "      <th>12</th>\n",
       "      <td>0.918236</td>\n",
       "      <td>0.012743</td>\n",
       "      <td>0.820624</td>\n",
       "      <td>0.020702</td>\n",
       "    </tr>\n",
       "    <tr>\n",
       "      <th>13</th>\n",
       "      <td>0.921825</td>\n",
       "      <td>0.012667</td>\n",
       "      <td>0.820398</td>\n",
       "      <td>0.020053</td>\n",
       "    </tr>\n",
       "    <tr>\n",
       "      <th>14</th>\n",
       "      <td>0.926450</td>\n",
       "      <td>0.009543</td>\n",
       "      <td>0.818657</td>\n",
       "      <td>0.017779</td>\n",
       "    </tr>\n",
       "    <tr>\n",
       "      <th>15</th>\n",
       "      <td>0.930879</td>\n",
       "      <td>0.009050</td>\n",
       "      <td>0.821708</td>\n",
       "      <td>0.018292</td>\n",
       "    </tr>\n",
       "    <tr>\n",
       "      <th>16</th>\n",
       "      <td>0.935445</td>\n",
       "      <td>0.010258</td>\n",
       "      <td>0.821715</td>\n",
       "      <td>0.020194</td>\n",
       "    </tr>\n",
       "    <tr>\n",
       "      <th>17</th>\n",
       "      <td>0.940519</td>\n",
       "      <td>0.006538</td>\n",
       "      <td>0.821841</td>\n",
       "      <td>0.020128</td>\n",
       "    </tr>\n",
       "  </tbody>\n",
       "</table>\n",
       "</div>"
      ],
      "text/plain": [
       "    train-auc-mean  train-auc-std  test-auc-mean  test-auc-std\n",
       "0         0.819224       0.005817       0.769926      0.047341\n",
       "1         0.842821       0.012217       0.806518      0.021315\n",
       "2         0.854213       0.005705       0.806512      0.021542\n",
       "3         0.861384       0.008274       0.812601      0.030358\n",
       "4         0.873625       0.009501       0.814152      0.032305\n",
       "5         0.881067       0.009787       0.813072      0.027425\n",
       "6         0.886745       0.009047       0.810738      0.025871\n",
       "7         0.895144       0.009728       0.816828      0.023247\n",
       "8         0.898417       0.008864       0.817527      0.025424\n",
       "9         0.903438       0.010094       0.818247      0.024297\n",
       "10        0.909567       0.013377       0.818719      0.021123\n",
       "11        0.913054       0.013701       0.817377      0.019645\n",
       "12        0.918236       0.012743       0.820624      0.020702\n",
       "13        0.921825       0.012667       0.820398      0.020053\n",
       "14        0.926450       0.009543       0.818657      0.017779\n",
       "15        0.930879       0.009050       0.821708      0.018292\n",
       "16        0.935445       0.010258       0.821715      0.020194\n",
       "17        0.940519       0.006538       0.821841      0.020128"
      ]
     },
     "execution_count": 16,
     "metadata": {},
     "output_type": "execute_result"
    }
   ],
   "source": [
    "cv_results"
   ]
  },
  {
   "cell_type": "markdown",
   "id": "779fbab0",
   "metadata": {},
   "source": [
    "### Get mean scores"
   ]
  },
  {
   "cell_type": "code",
   "execution_count": 17,
   "id": "25cc75c5",
   "metadata": {},
   "outputs": [
    {
     "name": "stdout",
     "output_type": "stream",
     "text": [
      "[0]#011train-auc:0.9405190344815983\n",
      "[1]#011validation-auc:0.8218406316371057\n"
     ]
    }
   ],
   "source": [
    "print(f\"[0]#011train-auc:{cv_results.iloc[-1]['train-auc-mean']}\")\n",
    "print(f\"[1]#011validation-auc:{cv_results.iloc[-1]['test-auc-mean']}\")"
   ]
  },
  {
   "cell_type": "code",
   "execution_count": 18,
   "id": "44881d3c",
   "metadata": {},
   "outputs": [],
   "source": [
    "metrics_data = {\n",
    "    'classification_metrics': {\n",
    "    'validation:auc': { 'value': cv_results.iloc[-1]['test-auc-mean']},\n",
    "    'train:auc': {'value': cv_results.iloc[-1]['train-auc-mean']}\n",
    "    }\n",
    "}"
   ]
  },
  {
   "cell_type": "markdown",
   "id": "457e74d5",
   "metadata": {},
   "source": [
    "### Create model using train dataset"
   ]
  },
  {
   "cell_type": "code",
   "execution_count": 19,
   "id": "3f343742",
   "metadata": {},
   "outputs": [],
   "source": [
    "model = xgb.train(params=params, dtrain=dtrain, num_boost_round=len(cv_results))"
   ]
  },
  {
   "cell_type": "markdown",
   "id": "09665a4d",
   "metadata": {},
   "source": [
    "### Save model artifact, train/validation metrics"
   ]
  },
  {
   "cell_type": "code",
   "execution_count": 23,
   "id": "48957551",
   "metadata": {},
   "outputs": [],
   "source": [
    "model_location = 'xgboost-model-pytorch'"
   ]
  },
  {
   "cell_type": "code",
   "execution_count": 24,
   "id": "ccf745e6",
   "metadata": {},
   "outputs": [],
   "source": [
    "model.save_model(model_location)"
   ]
  },
  {
   "cell_type": "code",
   "execution_count": 25,
   "id": "46075386",
   "metadata": {},
   "outputs": [],
   "source": [
    "import json\n",
    "metrics_location = 'metrics.json'\n",
    "\n",
    "with open(metrics_location, 'w') as f:\n",
    "        json.dump(metrics_data, f)"
   ]
  }
 ],
 "metadata": {
  "kernelspec": {
   "display_name": "conda_pytorch_p38",
   "language": "python",
   "name": "conda_pytorch_p38"
  },
  "language_info": {
   "codemirror_mode": {
    "name": "ipython",
    "version": 3
   },
   "file_extension": ".py",
   "mimetype": "text/x-python",
   "name": "python",
   "nbconvert_exporter": "python",
   "pygments_lexer": "ipython3",
   "version": "3.8.12"
  }
 },
 "nbformat": 4,
 "nbformat_minor": 5
}
